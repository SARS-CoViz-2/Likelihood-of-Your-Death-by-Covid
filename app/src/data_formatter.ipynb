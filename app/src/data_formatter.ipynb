{
 "cells": [
  {
   "cell_type": "markdown",
   "metadata": {},
   "source": [
    "# Methodology\r\n",
    "Risk is calculated by disporportionality in demographics.\r\n",
    "\r\n",
    "## For Normal People:\r\n",
    "\"Risk\" is your chance of being infected or dying while in a demographic compared to the average.\r\n",
    "\r\n",
    "Risk is how much your characteristics affect how likely you are to catch or die of covid.\r\n",
    "\r\n",
    "\r\n",
    "risk is the ratio of the observed porportion of your demographic in the infected and your demographic in the population\r\n",
    "## For nerds:\r\n",
    "\r\n",
    "Risk is calculated using a naive bayes approach, where we take the probability of being affected given being in a demographic.\r\n",
    "\r\n",
    "\r\n",
    "Risk = (Affected_Demographic/Affected)/(Demographic/Population)\r\n",
    "\r\n",
    "$$P(A|B) = \\frac{P(A \\cap B)}{P(B)}$$\r\n",
    "\r\n",
    "A = Affected, B = Demo\r\n",
    "\r\n",
    "$$P(Affected \\cap Demo) = \\frac{\\#Affected Demo}{\\#Demo} \\\\\r\n",
    "\r\n",
    "P(Demo) = \\frac{\\#Demo}{\\#Total Population} \\\\\r\n",
    "\r\n",
    "P(Affected|Demo) = \\frac{P(Affected \\cap Demo)}{P(Demo)} \\\\\r\n",
    "\r\n",
    "\\\\$$"
   ]
  },
  {
   "cell_type": "code",
   "execution_count": 17,
   "metadata": {},
   "outputs": [],
   "source": [
    "import pandas as pd\r\n",
    "\r\n",
    "raw_files = ['sex__all_age_groups', 'race_ethnicity__all_age_groups', 'age_group']\r\n",
    "index_names = ['Sex', 'Race/Ethnicity', 'Age Group']\r\n",
    "cleaned_files = ['sex_data', 'ethnicity_data', 'age_data']\r\n",
    "\r\n",
    "for handle, index, clean in zip(raw_files, index_names, cleaned_files):\r\n",
    "  case = pd.read_csv(f'data/cases_by_{handle}.csv', header=0, comment='#')\r\n",
    "  death = pd.read_csv(f'data/deaths_by_{handle}.csv', header=0, comment='#').drop('Percent of US population',axis=1)\r\n",
    "\r\n",
    "  # deaths by sex has a 95% confidence interval instead of a count\r\n",
    "  if handle == 'sex__all_age_groups':\r\n",
    "    death['Count of deaths'] = pd.to_numeric(death['Count of deaths'].apply(lambda x: x.split(' - ')[1]), errors='coerce')\r\n",
    "\r\n",
    "  df = case.merge(death, on=index, how='left')\r\n",
    "  df['dc_ratio'] = df['Count of deaths']/df['Count of cases']\r\n",
    "  df['Portion of cases'] = df['Count of cases']/df['Count of cases'].sum()*100\r\n",
    "  df['Portion of deaths'] = df['Count of deaths']/df['Count of deaths'].sum()*100\r\n",
    "  df['Portion of US population'] = df['Percent of US population']\r\n",
    "  # Risk is calculated as the Affected\r\n",
    "  df['Case Risk'] = df['Portion of cases']/df['Portion of US population']\r\n",
    "  df['Death Risk'] = df['Portion of deaths']/df['Portion of US population']\r\n",
    "\r\n",
    "  df = df[[index, 'Case Risk', 'Death Risk', 'Portion of cases', 'Portion of deaths', 'Portion of US population', 'Count of cases', 'Count of deaths', 'dc_ratio']]\r\n",
    "  df.to_csv(f'data/{clean}.csv', index=False)\r\n",
    "\r\n"
   ]
  },
  {
   "cell_type": "code",
   "execution_count": 18,
   "metadata": {},
   "outputs": [],
   "source": [
    "import pandas as pd\r\n",
    "cleaned_files = ['sex_data','ethnicity_data','age_data', 'vax_data']\r\n",
    "\r\n",
    "for handle in cleaned_files:\r\n",
    "  with open(f'data/{handle}.json','w+') as f:\r\n",
    "    df = pd.read_csv(f'data/{handle}.csv', header=0, names=['value', 'cases', 'deaths', 'case porp', 'death porp', 'pop', 'Case count', 'Death count', 'dc_ratio'], comment='#')\r\n",
    "    df = df[['value', 'pop', 'cases', 'deaths', 'dc_ratio']]\r\n",
    "    df = df.append({'value':'-', 'pop':0, 'cases':0, 'deaths':0, 'dc_ratio':0},ignore_index=True)\r\n",
    "    f.write(f'{{ \"{handle}\": {df.to_json(orient=\"records\")} }}')\r\n",
    "    f.close()\r\n",
    "\r\n"
   ]
  },
  {
   "cell_type": "code",
   "execution_count": 25,
   "metadata": {},
   "outputs": [],
   "source": [
    "import json\r\n",
    "from string import ascii_lowercase as alpha\r\n",
    "cleaned_files = ['sex_data','ethnicity_data','age_data', 'vax_data']\r\n",
    "vals = []\r\n",
    "\r\n",
    "for handle in cleaned_files:\r\n",
    "  vals.append(pd.read_csv(f'data/{handle}.csv', header=0, names=['value', 'cases', 'deaths', 'case porp', 'death porp', 'pop', 'Case count', 'Death count', 'dc_ratio'], comment='#')['value'].values)\r\n",
    "\r\n",
    "labels = ['sex', 'ethnicity', 'age','vaccination']\r\n",
    "\r\n",
    "a = 0\r\n",
    "fields = open('fields.json', 'w+')\r\n",
    "fields.write(f'{{\"options\" :{{\\n')\r\n",
    "for i, (val, label) in enumerate(zip(vals,labels)):\r\n",
    "  fields.write(f'   \"{label}\" : [\\n')\r\n",
    "  for v in val: # if letters run out, double them\r\n",
    "    fields.write(f'    {{\"key\" : \"{alpha[a%26]*(1+a//26)}\", \"text\": \"{v}\", \"value\": \"{v}\"}},\\n')\r\n",
    "    a += 1\r\n",
    "\r\n",
    "  # write last item without trailing comma\r\n",
    "  fields.write(f'    {{\"key\" : \"{alpha[a%26]*(1+a//26)}\", \"text\": \"-\", \"value\": \"-\"}}\\n')\r\n",
    "  a += 1\r\n",
    "  \r\n",
    "  if i == len(labels)-1:\r\n",
    "    fields.write('  ]\\n')\r\n",
    "  else:\r\n",
    "    fields.write('  ],\\n')\r\n",
    "fields.write('}}')\r\n",
    "fields.close()\r\n"
   ]
  },
  {
   "cell_type": "code",
   "execution_count": 22,
   "metadata": {},
   "outputs": [
    {
     "data": {
      "text/plain": [
       "'abcdefghijklmnopqrstuvwxyz'"
      ]
     },
     "execution_count": 22,
     "metadata": {},
     "output_type": "execute_result"
    }
   ],
   "source": [
    "alpha"
   ]
  },
  {
   "cell_type": "code",
   "execution_count": null,
   "metadata": {},
   "outputs": [],
   "source": []
  }
 ],
 "metadata": {
  "interpreter": {
   "hash": "82b5efee887e002da33821188ce89fd9ea39794247391eab730cd4cb3f48fced"
  },
  "kernelspec": {
   "display_name": "Python 3.7.10 64-bit ('ark47': virtualenv)",
   "name": "python3"
  },
  "language_info": {
   "name": "python",
   "version": ""
  },
  "orig_nbformat": 4
 },
 "nbformat": 4,
 "nbformat_minor": 2
}